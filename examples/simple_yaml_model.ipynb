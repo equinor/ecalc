{
 "cells": [
  {
   "cell_type": "markdown",
   "metadata": {
    "collapsed": false,
    "jupyter": {
     "outputs_hidden": false
    }
   },
   "source": [
    "# Simple Model Example\n",
    "\n",
    "There are two ways of running a simple eCalc™ model:\n",
    "\n",
    "1. Specifying a YAML model\n",
    "2. Specifying a Python model\n",
    "\n",
    "Here we will look at both scenarios:\n",
    "\n",
    "## The Simple Model\n",
    "The Simple used in this example is the reference case in [eCalc™ Docs - Simple Model Example](https://equinor.github.io/ecalc/docs/about/modelling/examples/simple).\n",
    "\n",
    "The model consists of a single installation with:\n",
    "- Flare\n",
    "- Gas Export Compressor\n",
    "- Generator set A:\n",
    "    - Base Production Load\n",
    "    - Gas Injection Compressor\n",
    "    - Produced Water Re-injection Pump\n",
    "    - Seawater Injection Pump\n",
    "\n",
    "The model.yaml file contains references to:\n",
    "- production_data.csv\n",
    "- genset.csv\n",
    "- compressor_sampled.csv\n",
    "- compressor_sampled_with_turbine.csv\n",
    "- pump_sampled.csv\n",
    "- pump_chart.csv\n",
    "\n",
    "## Yaml Model\n",
    "A YAML model consists of a main YAML file and may reference to other input files - usually CSV-files for timeseries inputs.\n",
    "For more details about creating a model in YAML, see the [eCalc™ Docs](https://equinor.github.io/ecalc/docs/about)\n",
    "\n",
    "All files for the example can be found in the directory references in the code below.\n",
    "\n",
    "Here is how you load and run a YAML-model in eCalc™"
   ]
  },
  {
   "cell_type": "code",
   "execution_count": null,
   "metadata": {
    "ExecuteTime": {
     "end_time": "2023-04-26T14:25:25.542990Z",
     "start_time": "2023-04-26T14:25:25.462190Z"
    },
    "collapsed": false,
    "jupyter": {
     "outputs_hidden": false
    }
   },
   "outputs": [],
   "source": [
    "from pathlib import Path\n",
    "from libecalc.application.graph_result import GraphResult\n",
    "from libecalc.application.energy_calculator import EnergyCalculator\n",
    "from libecalc.common.time_utils import Frequency\n",
    "from libecalc.presentation.yaml.model import YamlModel\n",
    "from ecalc_cli.infrastructure.file_resource_service import FileResourceService\n",
    "from libecalc.presentation.yaml.file_configuration_service import FileConfigurationService\n",
    "from libecalc.examples import simple\n",
    "\n",
    "\n",
    "model_path = Path(simple.__file__).parent / \"model.yaml\"\n",
    "configuration_service = FileConfigurationService(configuration_path=model_path)\n",
    "resource_service = FileResourceService(working_directory=model_path.parent)\n",
    "yaml_model = YamlModel(\n",
    "    configuration_service=configuration_service,\n",
    "    resource_service=resource_service,\n",
    "    output_frequency=Frequency.NONE,\n",
    ")\n",
    "\n",
    "model = EnergyCalculator(graph=yaml_model.graph)\n",
    "consumer_results = model.evaluate_energy_usage(yaml_model.variables)\n",
    "emission_results = model.evaluate_emissions(\n",
    "    variables_map=yaml_model.variables,\n",
    "    consumer_results=consumer_results,\n",
    ")\n",
    "result = GraphResult(\n",
    "    graph=yaml_model.graph,\n",
    "    consumer_results=consumer_results,\n",
    "    variables_map=yaml_model.variables,\n",
    "    emission_results=emission_results,\n",
    ")"
   ]
  },
  {
   "cell_type": "code",
   "execution_count": null,
   "metadata": {
    "ExecuteTime": {
     "end_time": "2023-04-26T14:25:26.099329Z",
     "start_time": "2023-04-26T14:25:25.559549Z"
    },
    "collapsed": false,
    "jupyter": {
     "outputs_hidden": false
    }
   },
   "outputs": [],
   "source": [
    "import pandas as pd\n",
    "import matplotlib.pyplot as plt\n",
    "\n",
    "print(\"Iterating the model components to plot results: \\n\")\n",
    "for identity, component in yaml_model.graph.nodes.items():\n",
    "    if identity in result.consumer_results:\n",
    "        component_result = result.consumer_results[identity].component_result\n",
    "        ds = pd.Series(component_result.energy_usage.values, index=component_result.energy_usage.timesteps)\n",
    "        _ = ds.plot(\n",
    "            xlabel=\"time\",\n",
    "            ylabel=component_result.energy_usage.unit,\n",
    "            title=f\"Component: {component.name} type: {type(component).__name__}\",\n",
    "            kind=\"line\",\n",
    "        )\n",
    "        plt.show(block=False)  # block=False in order to run in CI-tests."
   ]
  },
  {
   "cell_type": "code",
   "execution_count": null,
   "metadata": {
    "ExecuteTime": {
     "end_time": "2023-04-26T14:25:26.101180Z",
     "start_time": "2023-04-26T14:25:26.100018Z"
    },
    "collapsed": false,
    "jupyter": {
     "outputs_hidden": false
    }
   },
   "outputs": [],
   "source": [
    "# Dummy test in order to test to assert that this notebook runs in GitHub Actions\n",
    "def test_notebook_works():\n",
    "    assert True"
   ]
  }
 ],
 "metadata": {
  "kernelspec": {
   "display_name": "Python 3 (ipykernel)",
   "language": "python",
   "name": "python3"
  },
  "language_info": {
   "codemirror_mode": {
    "name": "ipython",
    "version": 3
   },
   "file_extension": ".py",
   "mimetype": "text/x-python",
   "name": "python",
   "nbconvert_exporter": "python",
   "pygments_lexer": "ipython3",
   "version": "3.11.9"
  }
 },
 "nbformat": 4,
 "nbformat_minor": 4
}
