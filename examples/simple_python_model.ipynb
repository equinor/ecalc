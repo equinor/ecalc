{
 "cells": [
  {
   "cell_type": "markdown",
   "source": [
    "# Simple Model Example\n",
    "\n",
    "There are two ways of running a simple eCalc™ model:\n",
    "\n",
    "1. Specifying a YAML model\n",
    "2. Specifying a Python model\n",
    "\n",
    "Here we will look at both scenarios:\n",
    "\n",
    "## The Simple Model\n",
    "The Simple used in this example is the reference case in [eCalc™ Docs - Simple Model Example](https://equinor.github.io/ecalc/docs/about/modelling/examples/simple).\n",
    "\n",
    "The model consists of a single installation with:\n",
    "- Flare\n",
    "- Gas Export Compressor\n",
    "- Generator set A:\n",
    "    - Base Production Load\n",
    "    - Gas Injection Compressor\n",
    "    - Produced Water Re-injection Pump\n",
    "    - Seawater Injection Pump\n",
    "\n",
    "The model.yaml file contains references to:\n",
    "- production_data.csv\n",
    "- genset.csv\n",
    "- compressor_sampled.csv\n",
    "- compressor_sampled_with_turbine.csv\n",
    "- pump_sampled.csv\n",
    "- pump_chart.csv"
   ],
   "metadata": {
    "collapsed": false
   }
  },
  {
   "cell_type": "markdown",
   "source": [
    "### Python Model\n",
    "We will now recreate the exact same model, but this time using the libecalc Python library\n",
    "\n",
    "We start by defining some variables that we will use later\n",
    "\n",
    "VARIABLES:\n",
    "- hydrocarbon_export_sm3_per_day\n",
    "- salt_water_injection_rate_m3_per_day\n",
    "- gas_export_rate_sm3_per_day\n",
    "- gas_injection_rate_sm3_per_day\n",
    "- produced_water_reinjection_condition\n",
    "- produced_water_reinjection_total_system_rate_m3_per_day\n",
    "- flare_fuel_rate_sm3_day\n"
   ],
   "metadata": {
    "collapsed": false
   }
  },
  {
   "cell_type": "code",
   "execution_count": null,
   "outputs": [],
   "source": [
    "from libecalc.dto.types import ConsumptionType, EnergyUsageType, ConsumerType, EnergyModelType\n",
    "from libecalc.common.utils.rates import RateType\n",
    "from libecalc.dto.base import ConsumerUserDefinedCategoryType, ComponentType\n",
    "from libecalc.expression import Expression\n",
    "from libecalc.core.graph_result import GraphResult\n",
    "from libecalc.core.ecalc import EnergyCalculator\n",
    "from datetime import datetime\n",
    "from libecalc.dto import (\n",
    "    DirectConsumerFunction,\n",
    "    Asset,\n",
    "    Installation,\n",
    "    GeneratorSet,\n",
    "    GeneratorSetSampled,\n",
    "    ElectricityConsumer,\n",
    "    PumpConsumerFunction,\n",
    "    PumpModel,\n",
    "    SingleSpeedChart,\n",
    "    TabulatedConsumerFunction,\n",
    "    TabulatedData,\n",
    "    Variables,\n",
    "    CompressorSampled,\n",
    "    CompressorConsumerFunction,\n",
    "    FuelConsumer,\n",
    "    Emission,\n",
    "    FuelType,\n",
    "    VariablesMap\n",
    ")"
   ],
   "metadata": {
    "collapsed": false,
    "ExecuteTime": {
     "start_time": "2023-04-26T14:25:23.572924Z",
     "end_time": "2023-04-26T14:25:23.596846Z"
    }
   }
  },
  {
   "cell_type": "code",
   "execution_count": null,
   "outputs": [],
   "source": [
    "variables = VariablesMap(\n",
    "    time_vector=[\n",
    "        datetime(2020, 1, 1, 0, 0),\n",
    "        datetime(2021, 1, 1, 0, 0),\n",
    "        datetime(2022, 1, 1, 0, 0),\n",
    "        datetime(2023, 1, 1, 0, 0),\n",
    "        datetime(2024, 1, 1, 0, 0),\n",
    "        datetime(2024, 12, 1, 0, 0),\n",
    "        datetime(2026, 1, 1, 0, 0),\n",
    "        datetime(2027, 1, 1, 0, 0),\n",
    "        datetime(2028, 1, 1, 0, 0),\n",
    "        datetime(2029, 1, 1, 0, 0),\n",
    "        datetime(2030, 1, 1, 0, 0),\n",
    "        datetime(2031, 1, 1, 0, 0),\n",
    "    ],\n",
    "    variables={\n",
    "        \"SIM;OIL_PROD\": [\n",
    "            9000.0,\n",
    "            8000.0,\n",
    "            7000.0,\n",
    "            6000.0,\n",
    "            6000.0,\n",
    "            6000.0,\n",
    "            7000.0,\n",
    "            6000.0,\n",
    "            6000.0,\n",
    "            5000.0,\n",
    "            6000.0,\n",
    "            4000.0,\n",
    "        ],\n",
    "        \"SIM;GAS_SALES\": [\n",
    "            3500000.0,\n",
    "            3600000.0,\n",
    "            3700000.0,\n",
    "            3800000.0,\n",
    "            3900000.0,\n",
    "            4000000.0,\n",
    "            4100000.0,\n",
    "            4500000.0,\n",
    "            3500000.0,\n",
    "            2500000.0,\n",
    "            2000000.0,\n",
    "            3000000.0,\n",
    "        ],\n",
    "        \"SIM;WATER_PROD\": [\n",
    "            18000.0,\n",
    "            19000.0,\n",
    "            15000.0,\n",
    "            16000.0,\n",
    "            14000.0,\n",
    "            15000.0,\n",
    "            18000.0,\n",
    "            15000.0,\n",
    "            12000.0,\n",
    "            14000.0,\n",
    "            16000.0,\n",
    "            14000.0,\n",
    "        ],\n",
    "        \"SIM;WATER_INJ\": [\n",
    "            34000.0,\n",
    "            33000.0,\n",
    "            30000.0,\n",
    "            33000.0,\n",
    "            35000.0,\n",
    "            36000.0,\n",
    "            36000.0,\n",
    "            38000.0,\n",
    "            33000.0,\n",
    "            36000.0,\n",
    "            35000.0,\n",
    "            33000.0,\n",
    "        ],\n",
    "        \"SIM;GAS_INJ\": [\n",
    "            220000000.0,\n",
    "            220000000.0,\n",
    "            220000000.0,\n",
    "            230000000.0,\n",
    "            230000000.0,\n",
    "            240000000.0,\n",
    "            240000000.0,\n",
    "            240000000.0,\n",
    "            240000000.0,\n",
    "            240000000.0,\n",
    "            240000000.0,\n",
    "            240000000.0,\n",
    "        ],\n",
    "        \"SIM;GAS_LIFT\": [\n",
    "            13000000.0,\n",
    "            17000000.0,\n",
    "            21000000.0,\n",
    "            24000000.0,\n",
    "            28000000.0,\n",
    "            31000000.0,\n",
    "            35000000.0,\n",
    "            39000000.0,\n",
    "            43000000.0,\n",
    "            46000000.0,\n",
    "            50000000.0,\n",
    "            53000000.0,\n",
    "        ],\n",
    "        \"$var.hydrocarbon_export_sm3_per_day\": [\n",
    "            12500.0,\n",
    "            11600.0,\n",
    "            10700.0,\n",
    "            9800.0,\n",
    "            9900.0,\n",
    "            10000.0,\n",
    "            11100.0,\n",
    "            10500.0,\n",
    "            9500.0,\n",
    "            7500.0,\n",
    "            8000.0,\n",
    "            7000.0,\n",
    "        ],\n",
    "        \"$var.gas_export_rate_sm3_per_day\": [\n",
    "            3500000.0,\n",
    "            3600000.0,\n",
    "            3700000.0,\n",
    "            3800000.0,\n",
    "            3900000.0,\n",
    "            4000000.0,\n",
    "            4100000.0,\n",
    "            4500000.0,\n",
    "            3500000.0,\n",
    "            2500000.0,\n",
    "            2000000.0,\n",
    "            3000000.0,\n",
    "        ],\n",
    "        \"$var.produced_water_reinjection_condition\": [1.0, 1.0, 1.0, 1.0, 1.0, 1.0, 1.0, 1.0, 1.0, 1.0, 1.0, 1.0],\n",
    "        \"$var.flare_fuel_rate_sm3_day\": [\n",
    "            7000.0,\n",
    "            7000.0,\n",
    "            7000.0,\n",
    "            7000.0,\n",
    "            7000.0,\n",
    "            7000.0,\n",
    "            7000.0,\n",
    "            7000.0,\n",
    "            7000.0,\n",
    "            7000.0,\n",
    "            7000.0,\n",
    "            7000.0,\n",
    "        ],\n",
    "        \"$var.salt_water_injection_rate_m3_per_day\": [\n",
    "            17000.0,\n",
    "            14000.0,\n",
    "            15000.0,\n",
    "            17000.0,\n",
    "            21000.0,\n",
    "            21000.0,\n",
    "            19000.0,\n",
    "            23000.0,\n",
    "            21000.0,\n",
    "            22000.0,\n",
    "            19000.0,\n",
    "            19000.0,\n",
    "        ],\n",
    "        \"$var.produced_water_reinjection_total_system_rate_m3_per_day\": [\n",
    "            18000.0,\n",
    "            19000.0,\n",
    "            15000.0,\n",
    "            16000.0,\n",
    "            14000.0,\n",
    "            15000.0,\n",
    "            18000.0,\n",
    "            15000.0,\n",
    "            12000.0,\n",
    "            14000.0,\n",
    "            16000.0,\n",
    "            14000.0,\n",
    "        ],\n",
    "        \"$var.gas_injection_rate_sm3_per_day\": [\n",
    "            233000000.0,\n",
    "            237000000.0,\n",
    "            241000000.0,\n",
    "            254000000.0,\n",
    "            258000000.0,\n",
    "            271000000.0,\n",
    "            275000000.0,\n",
    "            279000000.0,\n",
    "            283000000.0,\n",
    "            286000000.0,\n",
    "            290000000.0,\n",
    "            293000000.0,\n",
    "        ],\n",
    "    },\n",
    ")\n"
   ],
   "metadata": {
    "collapsed": false,
    "ExecuteTime": {
     "start_time": "2023-04-26T13:28:02.924970Z",
     "end_time": "2023-04-26T13:28:02.948424Z"
    },
    "pycharm": {
     "is_executing": true
    }
   }
  },
  {
   "cell_type": "markdown",
   "source": [
    "Then we create fuel and emissions that will be used by the model."
   ],
   "metadata": {
    "collapsed": false
   }
  },
  {
   "cell_type": "code",
   "execution_count": null,
   "outputs": [],
   "source": [
    "co2 = Emission(\n",
    "    name=\"co2\",\n",
    "    factor=Expression.setup_from_expression(2.19),\n",
    ")\n",
    "\n",
    "fuel_gas = FuelType(\n",
    "    name=\"fuel_gas\", user_defined_category=None, emissions=[co2]\n",
    ")"
   ],
   "metadata": {
    "collapsed": false,
    "ExecuteTime": {
     "start_time": "2023-04-26T13:28:02.932398Z",
     "end_time": "2023-04-26T13:28:02.948762Z"
    },
    "pycharm": {
     "is_executing": true
    }
   }
  },
  {
   "cell_type": "markdown",
   "source": [
    "Next we create the Flare"
   ],
   "metadata": {
    "collapsed": false
   }
  },
  {
   "cell_type": "code",
   "execution_count": null,
   "outputs": [],
   "source": [
    "flare = FuelConsumer(\n",
    "    component_type=ComponentType.GENERIC,\n",
    "    name=\"Flare\",\n",
    "    regularity={datetime(1900, 1, 1): Expression.setup_from_expression(1.0)},\n",
    "    user_defined_category={datetime(1900, 1, 1): ConsumerUserDefinedCategoryType.FLARE},\n",
    "    consumes=ConsumptionType.FUEL,\n",
    "    fuel={datetime(1900, 1, 1): fuel_gas},\n",
    "    energy_usage_model={\n",
    "        datetime(1900, 1, 1): DirectConsumerFunction(\n",
    "            typ=ConsumerType.DIRECT,\n",
    "            energy_usage_type=EnergyUsageType.FUEL,\n",
    "            condition=None,\n",
    "            fuel_rate=Expression.setup_from_expression(\"$var.flare_fuel_rate_sm3_day\"),\n",
    "            load=None,\n",
    "            power_loss_factor=None,\n",
    "            consumption_rate_type=RateType.STREAM_DAY,\n",
    "        )\n",
    "    },\n",
    ")"
   ],
   "metadata": {
    "collapsed": false,
    "ExecuteTime": {
     "start_time": "2023-04-26T13:28:02.934113Z",
     "end_time": "2023-04-26T13:28:02.949095Z"
    },
    "pycharm": {
     "is_executing": true
    }
   }
  },
  {
   "cell_type": "markdown",
   "source": [
    "Then we create a gas export compressor"
   ],
   "metadata": {
    "collapsed": false
   }
  },
  {
   "cell_type": "code",
   "execution_count": null,
   "outputs": [],
   "source": [
    "gas_export_compressor = FuelConsumer(\n",
    "    component_type=ComponentType.COMPRESSOR,\n",
    "    name=\"Gas export compressor\",\n",
    "    regularity={datetime(1900, 1, 1): Expression.setup_from_expression(1.0)},\n",
    "    user_defined_category={datetime(1900, 1, 1): ConsumerUserDefinedCategoryType.COMPRESSOR},\n",
    "    consumes=ConsumptionType.FUEL,\n",
    "    fuel={datetime(1900, 1, 1): fuel_gas},\n",
    "    energy_usage_model={\n",
    "        datetime(1900, 1, 1): CompressorConsumerFunction(\n",
    "            typ=ConsumerType.COMPRESSOR,\n",
    "            energy_usage_type=EnergyUsageType.FUEL,\n",
    "            condition=None,\n",
    "            power_loss_factor=None,\n",
    "            model=CompressorSampled(\n",
    "                energy_usage_adjustment_constant=0.0,\n",
    "                energy_usage_adjustment_factor=1.0,\n",
    "                typ=EnergyModelType.COMPRESSOR_SAMPLED,\n",
    "                energy_usage_type=EnergyUsageType.FUEL,\n",
    "                energy_usage_values=[0.0, 50000.0, 50000.0, 130000.0, 170000.0],\n",
    "                rate_values=[0.0, 0.1, 3000000.0, 3500000.0, 7000000.0],\n",
    "                suction_pressure_values=None,\n",
    "                discharge_pressure_values=None,\n",
    "                power_interpolation_values=None,\n",
    "            ),\n",
    "            rate_standard_m3_day=Expression.setup_from_expression(\"$var.gas_export_rate_sm3_per_day\"),\n",
    "            suction_pressure=None,\n",
    "            discharge_pressure=None,\n",
    "            interstage_control_pressure=None,\n",
    "        )\n",
    "    },\n",
    ")"
   ],
   "metadata": {
    "collapsed": false,
    "ExecuteTime": {
     "start_time": "2023-04-26T13:28:02.939094Z",
     "end_time": "2023-04-26T13:28:02.966748Z"
    },
    "pycharm": {
     "is_executing": true
    }
   }
  },
  {
   "cell_type": "markdown",
   "source": [
    "Then we create the base production load"
   ],
   "metadata": {
    "collapsed": false
   }
  },
  {
   "cell_type": "code",
   "execution_count": null,
   "outputs": [],
   "source": [
    "\n",
    "\n",
    "base_production_load = ElectricityConsumer(\n",
    "    component_type=ComponentType.GENERIC,\n",
    "    name=\"Base production load\",\n",
    "    regularity={datetime(1900, 1, 1): Expression.setup_from_expression(1.0)},\n",
    "    user_defined_category={datetime(1900, 1, 1): ConsumerUserDefinedCategoryType.BASE_LOAD},\n",
    "    consumes=ConsumptionType.ELECTRICITY,\n",
    "    fuel=None,\n",
    "    energy_usage_model={\n",
    "        datetime(1900, 1, 1): DirectConsumerFunction(\n",
    "            energy_usage_type=EnergyUsageType.POWER,\n",
    "            condition=None,\n",
    "            fuel_rate=None,\n",
    "            load=Expression.setup_from_expression(11.8),\n",
    "            power_loss_factor=None,\n",
    "            consumption_rate_type=RateType.STREAM_DAY,\n",
    "        )\n",
    "    },\n",
    ")\n"
   ],
   "metadata": {
    "collapsed": false,
    "ExecuteTime": {
     "start_time": "2023-04-26T14:25:24.115645Z",
     "end_time": "2023-04-26T14:25:24.117379Z"
    }
   }
  },
  {
   "cell_type": "markdown",
   "source": [
    "Then we create a gas injection compressor"
   ],
   "metadata": {
    "collapsed": false
   }
  },
  {
   "cell_type": "code",
   "execution_count": null,
   "outputs": [],
   "source": [
    "gas_injection_compressor = ElectricityConsumer(\n",
    "    name=\"Gas injection compressor\",\n",
    "    regularity={datetime(1900, 1, 1): Expression.setup_from_expression(1.0)},\n",
    "    user_defined_category={datetime(1900, 1, 1): ConsumerUserDefinedCategoryType.COMPRESSOR},\n",
    "    consumes=ConsumptionType.ELECTRICITY,\n",
    "    fuel=None,\n",
    "    energy_usage_model={\n",
    "        datetime(1900, 1, 1): CompressorConsumerFunction(\n",
    "            typ=ConsumerType.COMPRESSOR,\n",
    "            energy_usage_type=EnergyUsageType.POWER,\n",
    "            condition=None,\n",
    "            power_loss_factor=None,\n",
    "            model=CompressorSampled(\n",
    "                energy_usage_adjustment_constant=0.0,\n",
    "                energy_usage_adjustment_factor=1.0,\n",
    "                typ=EnergyModelType.COMPRESSOR_SAMPLED,\n",
    "                energy_usage_type=EnergyUsageType.POWER,\n",
    "                energy_usage_values=[0.0, 4.1, 4.1, 4.1, 4.1, 4.4, 4.8, 5.1, 5.4, 5.8, 6.1, 6.4, 6.8, 7.1, 14.2],\n",
    "                rate_values=[\n",
    "                    0.0,\n",
    "                    1.0,\n",
    "                    100000000.0,\n",
    "                    200000000.0,\n",
    "                    210000000.0,\n",
    "                    220000000.0,\n",
    "                    230000000.0,\n",
    "                    240000000.0,\n",
    "                    250000000.0,\n",
    "                    260000000.0,\n",
    "                    270000000.0,\n",
    "                    280000000.0,\n",
    "                    290000000.0,\n",
    "                    300000000.0,\n",
    "                    500000000.0,\n",
    "                ],\n",
    "                suction_pressure_values=None,\n",
    "                discharge_pressure_values=None,\n",
    "                power_interpolation_values=None,\n",
    "            ),\n",
    "            rate_standard_m3_day=Expression.setup_from_expression(\"$var.gas_injection_rate_sm3_per_day\"),\n",
    "            suction_pressure=None,\n",
    "            discharge_pressure=None,\n",
    "            interstage_control_pressure=None,\n",
    "        )\n",
    "    },\n",
    "    component_type=ComponentType.COMPRESSOR,\n",
    ")"
   ],
   "metadata": {
    "collapsed": false,
    "ExecuteTime": {
     "start_time": "2023-04-26T14:25:24.119794Z",
     "end_time": "2023-04-26T14:25:24.120878Z"
    }
   }
  },
  {
   "cell_type": "markdown",
   "source": [
    "Then we create a Produced Water Re-injection Pump"
   ],
   "metadata": {
    "collapsed": false
   }
  },
  {
   "cell_type": "code",
   "execution_count": null,
   "outputs": [],
   "source": [
    "produced_water_reinjection_pump = ElectricityConsumer(\n",
    "    component_type=ComponentType.PUMP,\n",
    "    name=\"Produced water reinjection pump\",\n",
    "    regularity={datetime(1900, 1, 1): Expression.setup_from_expression(1.0)},\n",
    "    user_defined_category={\n",
    "        datetime(1900, 1, 1): ConsumerUserDefinedCategoryType.PUMP,\n",
    "    },\n",
    "    consumes=ConsumptionType.ELECTRICITY,\n",
    "    fuel=None,\n",
    "    energy_usage_model={\n",
    "        datetime(1900, 1, 1): PumpConsumerFunction(\n",
    "            typ=ConsumerType.PUMP,\n",
    "            energy_usage_type=EnergyUsageType.POWER,\n",
    "            condition=Expression.setup_from_expression(\"$var.produced_water_reinjection_condition\"),\n",
    "            power_loss_factor=None,\n",
    "            model=PumpModel(\n",
    "                energy_usage_adjustment_constant=0.0,\n",
    "                energy_usage_adjustment_factor=1.0,\n",
    "                typ=EnergyModelType.PUMP_MODEL,\n",
    "                chart=SingleSpeedChart(\n",
    "                    speed_rpm=3250.0,\n",
    "                    rate_actual_m3_hour=[250.0, 360.0, 500.0, 600.0, 667.0, 735.0],\n",
    "                    polytropic_head_joule_per_kg=[25898.4, 24426.9, 22975.02, 21680.1, 20287.08, 18344.7],\n",
    "                    efficiency_fraction=[0.59, 0.68, 0.77, 0.8, 0.78, 0.74],\n",
    "                ),\n",
    "                head_margin=0.0,\n",
    "            ),\n",
    "            rate_standard_m3_day=Expression.setup_from_expression(\n",
    "                \"$var.produced_water_reinjection_total_system_rate_m3_per_day\"\n",
    "            ),\n",
    "            suction_pressure=Expression.setup_from_expression(10.0),\n",
    "            discharge_pressure=Expression.setup_from_expression(200.0),\n",
    "            fluid_density=Expression.setup_from_expression(1010.0),\n",
    "        )\n",
    "    },\n",
    ")\n"
   ],
   "metadata": {
    "collapsed": false,
    "ExecuteTime": {
     "start_time": "2023-04-26T14:25:24.123353Z",
     "end_time": "2023-04-26T14:25:24.124429Z"
    }
   }
  },
  {
   "cell_type": "markdown",
   "source": [
    "The we create a Seawater Injection Pump"
   ],
   "metadata": {
    "collapsed": false
   }
  },
  {
   "cell_type": "code",
   "execution_count": null,
   "outputs": [],
   "source": [
    "seawater_injection_pump = ElectricityConsumer(\n",
    "    component_type=ComponentType.GENERIC,\n",
    "    name=\"Sea water injection pump\",\n",
    "    regularity={datetime(1900, 1, 1): Expression.setup_from_expression(1.0)},\n",
    "    user_defined_category={datetime(1900, 1, 1): ConsumerUserDefinedCategoryType.PUMP},\n",
    "    consumes=ConsumptionType.ELECTRICITY,\n",
    "    fuel=None,\n",
    "    energy_usage_model={\n",
    "        datetime(1900, 1, 1): TabulatedConsumerFunction(\n",
    "            typ=ConsumerType.TABULATED,\n",
    "            energy_usage_type=EnergyUsageType.POWER,\n",
    "            condition=None,\n",
    "            power_loss_factor=None,\n",
    "            model=TabulatedData(\n",
    "                energy_usage_adjustment_constant=0.0,\n",
    "                energy_usage_adjustment_factor=1.0,\n",
    "                headers=[\"RATE\", \"POWER\"],\n",
    "                data=[[0.0, 1.0, 8500.0, 9000.0, 17000.0, 17500.0, 36000.0], [0.0, 3.0, 4.0, 4.0, 6.0, 9.0, 13.0]],\n",
    "                typ=EnergyModelType.TABULATED,\n",
    "            ),\n",
    "            variables=[\n",
    "                Variables(\n",
    "                    name=\"RATE\",\n",
    "                    expression=Expression.setup_from_expression(\"$var.salt_water_injection_rate_m3_per_day\"),\n",
    "                )\n",
    "            ],\n",
    "        )\n",
    "    },\n",
    ")"
   ],
   "metadata": {
    "collapsed": false,
    "ExecuteTime": {
     "start_time": "2023-04-26T14:25:24.126420Z",
     "end_time": "2023-04-26T14:25:24.127468Z"
    }
   }
  },
  {
   "cell_type": "markdown",
   "source": [
    "Then we collect the electricity consumers inside a GeneratorSet"
   ],
   "metadata": {
    "collapsed": false
   }
  },
  {
   "cell_type": "code",
   "execution_count": null,
   "outputs": [],
   "source": [
    "generator_set_a = GeneratorSet(\n",
    "    name=\"Generator set A\",\n",
    "    regularity={datetime(1900, 1, 1): Expression.setup_from_expression(1.0)},\n",
    "    user_defined_category={datetime(1900, 1, 1): ConsumerUserDefinedCategoryType.TURBINE_GENERATOR},\n",
    "    fuel={datetime(1900, 1, 1): fuel_gas},\n",
    "    generator_set_model={\n",
    "        datetime(1900, 1, 1): GeneratorSetSampled(\n",
    "            energy_usage_adjustment_constant=0.0,\n",
    "            energy_usage_adjustment_factor=1.0,\n",
    "            headers=[\"POWER\", \"FUEL\"],\n",
    "            data=[[0.0, 0.1, 10.0, 20.0, 40.0, 100.0], [0.0, 65000.0, 75000.0, 126000.0, 250000.0, 750000.0]],\n",
    "        )\n",
    "    },\n",
    "    consumers=[\n",
    "        base_production_load,\n",
    "        gas_injection_compressor,\n",
    "        produced_water_reinjection_pump,\n",
    "        seawater_injection_pump,\n",
    "    ],\n",
    ")"
   ],
   "metadata": {
    "collapsed": false,
    "ExecuteTime": {
     "start_time": "2023-04-26T14:25:24.129956Z",
     "end_time": "2023-04-26T14:25:24.130979Z"
    }
   }
  },
  {
   "cell_type": "code",
   "execution_count": null,
   "outputs": [],
   "source": [
    "\n",
    "\n",
    "\n",
    "model_dto = Asset(\n",
    "    name=\"model\",\n",
    "    installations=[\n",
    "        Installation(\n",
    "            name=\"Installation A\",\n",
    "            regularity={datetime(1900, 1, 1): Expression.setup_from_expression(1.0)},\n",
    "            user_defined_category=None,\n",
    "            hydrocarbon_export={\n",
    "                datetime(1900, 1, 1): Expression.setup_from_expression(\"$var.hydrocarbon_export_sm3_per_day\")\n",
    "            },\n",
    "            fuel_consumers=[\n",
    "                generator_set_a,\n",
    "                flare,\n",
    "            ],\n",
    "            venting_emitters=[],\n",
    "        )\n",
    "    ],\n",
    ")\n"
   ],
   "metadata": {
    "collapsed": false,
    "ExecuteTime": {
     "start_time": "2023-04-26T14:25:24.133559Z",
     "end_time": "2023-04-26T14:25:24.134692Z"
    }
   }
  },
  {
   "cell_type": "code",
   "execution_count": null,
   "outputs": [],
   "source": [
    "model_graph = model_dto.get_graph()\n",
    "model = EnergyCalculator(model_graph)\n",
    "consumer_results = model.evaluate_energy_usage(variables)\n",
    "emission_results = model.evaluate_emissions(\n",
    "    variables_map=variables,\n",
    "    consumer_results=consumer_results,\n",
    ")\n",
    "result = GraphResult(\n",
    "    graph=model_graph,\n",
    "    consumer_results=consumer_results,\n",
    "    variables_map=variables,\n",
    "    emission_results=emission_results,\n",
    ")"
   ],
   "metadata": {
    "collapsed": false,
    "ExecuteTime": {
     "start_time": "2023-04-26T14:25:24.147857Z",
     "end_time": "2023-04-26T14:25:24.148885Z"
    }
   }
  },
  {
   "cell_type": "code",
   "execution_count": null,
   "outputs": [],
   "source": [
    "import pandas as pd\n",
    "import matplotlib.pyplot as plt\n",
    "\n",
    "print(\"Iterating the model components to plot results: \\n\")\n",
    "for identity, component in model_graph.nodes.items():\n",
    "    if identity in result.consumer_results:\n",
    "        component_result = result.consumer_results[identity].component_result\n",
    "        ds = pd.Series(component_result.energy_usage.values, index=component_result.energy_usage.timesteps)\n",
    "        _ = ds.plot(xlabel=\"time\", ylabel=component_result.energy_usage.unit, title=f\"Component: {component.name} type: {type(component).__name__}\", kind=\"line\")\n",
    "        plt.show(block=False)  # block=False in order to run in CI-tests."
   ],
   "metadata": {
    "collapsed": false,
    "ExecuteTime": {
     "start_time": "2023-04-26T14:25:24.153021Z",
     "end_time": "2023-04-26T14:25:24.638557Z"
    }
   }
  },
  {
   "cell_type": "code",
   "execution_count": null,
   "outputs": [],
   "source": [
    "# Dummy test in order to test to assert that this notebook runs in GitHub Actions\n",
    "def test_notebook_works():\n",
    "    assert True"
   ],
   "metadata": {
    "collapsed": false,
    "ExecuteTime": {
     "start_time": "2023-04-26T14:25:24.639622Z",
     "end_time": "2023-04-26T14:25:24.640337Z"
    }
   }
  }
 ],
 "metadata": {
  "kernelspec": {
   "display_name": "Python 3",
   "language": "python",
   "name": "python3"
  },
  "language_info": {
   "codemirror_mode": {
    "name": "ipython",
    "version": 2
   },
   "file_extension": ".py",
   "mimetype": "text/x-python",
   "name": "python",
   "nbconvert_exporter": "python",
   "pygments_lexer": "ipython2",
   "version": "2.7.6"
  }
 },
 "nbformat": 4,
 "nbformat_minor": 0
}
